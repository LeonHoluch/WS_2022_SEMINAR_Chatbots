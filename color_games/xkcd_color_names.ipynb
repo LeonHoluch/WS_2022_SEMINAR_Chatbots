{
 "cells": [
  {
   "cell_type": "code",
   "execution_count": null,
   "metadata": {},
   "outputs": [],
   "source": [
    "## XKCD Color Survey\n",
    "\n",
    "- Paper: Monroe, Will, et al. \"Colors in context: A pragmatic neural model for grounded language understanding.\" Transactions of the Association for Computational Linguistics 5 (2017): 325-338.\n",
    "- Link to paper: https://aclanthology.org/Q17-1023/\n",
    "- Link to code and data: https://github.com/futurulus/colors-in-context\n"
   ]
  },
  {
   "cell_type": "code",
   "execution_count": 1,
   "metadata": {},
   "outputs": [],
   "source": [
    "import pandas as pd\n",
    "import numpy as np\n",
    "from collections import Counter\n",
    "import colorsys\n",
    "import matplotlib.pyplot as plt"
   ]
  },
  {
   "cell_type": "code",
   "execution_count": 3,
   "metadata": {},
   "outputs": [],
   "source": [
    "cols =np.load(\"./data/xkcd/color_values.npy\")"
   ]
  },
  {
   "cell_type": "code",
   "execution_count": 4,
   "metadata": {},
   "outputs": [],
   "source": [
    "coldf = pd.read_csv(\"./data/xkcd/annotations.csv\")"
   ]
  },
  {
   "cell_type": "code",
   "execution_count": 5,
   "metadata": {},
   "outputs": [],
   "source": [
    "coldf['color_words'] = coldf['color_name'].apply(lambda x: x.split())\n",
    "coldf['n'] =  coldf['color_words'].apply(lambda x: len(x))\n",
    "multicoldf = coldf.query('n > 1')"
   ]
  },
  {
   "cell_type": "code",
   "execution_count": 6,
   "metadata": {},
   "outputs": [
    {
     "data": {
      "text/html": [
       "<div>\n",
       "<style scoped>\n",
       "    .dataframe tbody tr th:only-of-type {\n",
       "        vertical-align: middle;\n",
       "    }\n",
       "\n",
       "    .dataframe tbody tr th {\n",
       "        vertical-align: top;\n",
       "    }\n",
       "\n",
       "    .dataframe thead th {\n",
       "        text-align: right;\n",
       "    }\n",
       "</style>\n",
       "<table border=\"1\" class=\"dataframe\">\n",
       "  <thead>\n",
       "    <tr style=\"text-align: right;\">\n",
       "      <th></th>\n",
       "      <th>Unnamed: 0</th>\n",
       "      <th>color_name</th>\n",
       "      <th>row_index</th>\n",
       "      <th>split</th>\n",
       "      <th>color_words</th>\n",
       "      <th>n</th>\n",
       "    </tr>\n",
       "  </thead>\n",
       "  <tbody>\n",
       "    <tr>\n",
       "      <th>0</th>\n",
       "      <td>0</td>\n",
       "      <td>acid green</td>\n",
       "      <td>0</td>\n",
       "      <td>train</td>\n",
       "      <td>[acid, green]</td>\n",
       "      <td>2</td>\n",
       "    </tr>\n",
       "    <tr>\n",
       "      <th>1</th>\n",
       "      <td>1</td>\n",
       "      <td>acid green</td>\n",
       "      <td>1</td>\n",
       "      <td>train</td>\n",
       "      <td>[acid, green]</td>\n",
       "      <td>2</td>\n",
       "    </tr>\n",
       "    <tr>\n",
       "      <th>2</th>\n",
       "      <td>2</td>\n",
       "      <td>acid green</td>\n",
       "      <td>2</td>\n",
       "      <td>train</td>\n",
       "      <td>[acid, green]</td>\n",
       "      <td>2</td>\n",
       "    </tr>\n",
       "    <tr>\n",
       "      <th>3</th>\n",
       "      <td>3</td>\n",
       "      <td>acid green</td>\n",
       "      <td>3</td>\n",
       "      <td>train</td>\n",
       "      <td>[acid, green]</td>\n",
       "      <td>2</td>\n",
       "    </tr>\n",
       "    <tr>\n",
       "      <th>4</th>\n",
       "      <td>4</td>\n",
       "      <td>acid green</td>\n",
       "      <td>4</td>\n",
       "      <td>train</td>\n",
       "      <td>[acid, green]</td>\n",
       "      <td>2</td>\n",
       "    </tr>\n",
       "    <tr>\n",
       "      <th>...</th>\n",
       "      <td>...</td>\n",
       "      <td>...</td>\n",
       "      <td>...</td>\n",
       "      <td>...</td>\n",
       "      <td>...</td>\n",
       "      <td>...</td>\n",
       "    </tr>\n",
       "    <tr>\n",
       "      <th>2176412</th>\n",
       "      <td>2176412</td>\n",
       "      <td>yuck</td>\n",
       "      <td>2176412</td>\n",
       "      <td>test</td>\n",
       "      <td>[yuck]</td>\n",
       "      <td>1</td>\n",
       "    </tr>\n",
       "    <tr>\n",
       "      <th>2176413</th>\n",
       "      <td>2176413</td>\n",
       "      <td>yuck</td>\n",
       "      <td>2176413</td>\n",
       "      <td>test</td>\n",
       "      <td>[yuck]</td>\n",
       "      <td>1</td>\n",
       "    </tr>\n",
       "    <tr>\n",
       "      <th>2176414</th>\n",
       "      <td>2176414</td>\n",
       "      <td>yuck</td>\n",
       "      <td>2176414</td>\n",
       "      <td>test</td>\n",
       "      <td>[yuck]</td>\n",
       "      <td>1</td>\n",
       "    </tr>\n",
       "    <tr>\n",
       "      <th>2176415</th>\n",
       "      <td>2176415</td>\n",
       "      <td>yuck</td>\n",
       "      <td>2176415</td>\n",
       "      <td>test</td>\n",
       "      <td>[yuck]</td>\n",
       "      <td>1</td>\n",
       "    </tr>\n",
       "    <tr>\n",
       "      <th>2176416</th>\n",
       "      <td>2176416</td>\n",
       "      <td>yuck</td>\n",
       "      <td>2176416</td>\n",
       "      <td>test</td>\n",
       "      <td>[yuck]</td>\n",
       "      <td>1</td>\n",
       "    </tr>\n",
       "  </tbody>\n",
       "</table>\n",
       "<p>2176417 rows × 6 columns</p>\n",
       "</div>"
      ],
      "text/plain": [
       "         Unnamed: 0  color_name  row_index  split    color_words  n\n",
       "0                 0  acid green          0  train  [acid, green]  2\n",
       "1                 1  acid green          1  train  [acid, green]  2\n",
       "2                 2  acid green          2  train  [acid, green]  2\n",
       "3                 3  acid green          3  train  [acid, green]  2\n",
       "4                 4  acid green          4  train  [acid, green]  2\n",
       "...             ...         ...        ...    ...            ... ..\n",
       "2176412     2176412        yuck    2176412   test         [yuck]  1\n",
       "2176413     2176413        yuck    2176413   test         [yuck]  1\n",
       "2176414     2176414        yuck    2176414   test         [yuck]  1\n",
       "2176415     2176415        yuck    2176415   test         [yuck]  1\n",
       "2176416     2176416        yuck    2176416   test         [yuck]  1\n",
       "\n",
       "[2176417 rows x 6 columns]"
      ]
     },
     "execution_count": 6,
     "metadata": {},
     "output_type": "execute_result"
    }
   ],
   "source": [
    "coldf"
   ]
  },
  {
   "cell_type": "code",
   "execution_count": 7,
   "metadata": {},
   "outputs": [],
   "source": [
    "def plot_one(color_vector, ax=None, title=\"\"):\n",
    "    \n",
    "    rgb_vector = colorsys.hsv_to_rgb(*color_vector)\n",
    "    if ax is None:\n",
    "        _, ax = plt.subplots(1, 1)\n",
    "    ax.add_patch(plt.Rectangle((0, 0), 10, 10, color=tuple(rgb_vector)))\n",
    "    ax.axis('off')\n",
    "    ax.set_title(title)"
   ]
  },
  {
   "cell_type": "code",
   "execution_count": 8,
   "metadata": {},
   "outputs": [
    {
     "data": {
      "image/png": "[encoded data removed]",
      "text/plain": [
       "<Figure size 432x288 with 1 Axes>"
      ]
     },
     "metadata": {
      "needs_background": "light"
     },
     "output_type": "display_data"
    }
   ],
   "source": [
    "plot_one(cols[0])"
   ]
  },
  {
   "cell_type": "code",
   "execution_count": 9,
   "metadata": {},
   "outputs": [
    {
     "data": {
      "image/png": "[encoded data removed]",
      "text/plain": [
       "<Figure size 432x288 with 1 Axes>"
      ]
     },
     "metadata": {
      "needs_background": "light"
     },
     "output_type": "display_data"
    }
   ],
   "source": [
    "plot_one(cols[2176163])"
   ]
  },
  {
   "cell_type": "code",
   "execution_count": null,
   "metadata": {},
   "outputs": [],
   "source": []
  }
 ],
 "metadata": {
  "kernelspec": {
   "display_name": "Python 3",
   "language": "python",
   "name": "python3"
  },
  "language_info": {
   "codemirror_mode": {
    "name": "ipython",
    "version": 3
   },
   "file_extension": ".py",
   "mimetype": "text/x-python",
   "name": "python",
   "nbconvert_exporter": "python",
   "pygments_lexer": "ipython3",
   "version": "3.8.8"
  }
 },
 "nbformat": 4,
 "nbformat_minor": 2
}
