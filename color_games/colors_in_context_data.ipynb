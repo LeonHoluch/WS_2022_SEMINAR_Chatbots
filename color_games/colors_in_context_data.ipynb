{
 "cells": [
  {
   "cell_type": "markdown",
   "metadata": {},
   "source": [
    "## Colors in Context\n",
    "\n",
    "- Paper: Monroe, Will, et al. \"Colors in context: A pragmatic neural model for grounded language understanding.\" Transactions of the Association for Computational Linguistics 5 (2017): 325-338.\n",
    "- Link to paper: https://aclanthology.org/Q17-1023/\n",
    "- Link to code and data: https://github.com/futurulus/colors-in-context\n"
   ]
  },
  {
   "cell_type": "code",
   "execution_count": 1,
   "metadata": {},
   "outputs": [],
   "source": [
    "import pandas as pd\n",
    "import numpy as np\n",
    "from collections import Counter\n",
    "import colorsys\n",
    "import matplotlib.pyplot as plt"
   ]
  },
  {
   "cell_type": "code",
   "execution_count": 3,
   "metadata": {},
   "outputs": [],
   "source": [
    "cic_df = pd.read_csv(\"./data/cic_vectorized.csv\")"
   ]
  },
  {
   "cell_type": "code",
   "execution_count": 4,
   "metadata": {
    "scrolled": true
   },
   "outputs": [
    {
     "data": {
      "text/html": [
       "<div>\n",
       "<style scoped>\n",
       "    .dataframe tbody tr th:only-of-type {\n",
       "        vertical-align: middle;\n",
       "    }\n",
       "\n",
       "    .dataframe tbody tr th {\n",
       "        vertical-align: top;\n",
       "    }\n",
       "\n",
       "    .dataframe thead th {\n",
       "        text-align: right;\n",
       "    }\n",
       "</style>\n",
       "<table border=\"1\" class=\"dataframe\">\n",
       "  <thead>\n",
       "    <tr style=\"text-align: right;\">\n",
       "      <th></th>\n",
       "      <th>Unnamed: 0</th>\n",
       "      <th>gameid</th>\n",
       "      <th>roundid</th>\n",
       "      <th>round_num</th>\n",
       "      <th>lux_difficulty_label</th>\n",
       "      <th>lux_difficulty_rating</th>\n",
       "      <th>condition</th>\n",
       "      <th>lux_label</th>\n",
       "      <th>matcher_succeeded</th>\n",
       "      <th>split</th>\n",
       "      <th>target</th>\n",
       "      <th>alt1</th>\n",
       "      <th>alt2</th>\n",
       "      <th>clicked</th>\n",
       "      <th>full_text</th>\n",
       "      <th>utterance_events</th>\n",
       "      <th>num_utterances</th>\n",
       "      <th>utterance_events_pattern</th>\n",
       "    </tr>\n",
       "  </thead>\n",
       "  <tbody>\n",
       "    <tr>\n",
       "      <th>0</th>\n",
       "      <td>0</td>\n",
       "      <td>1124-1</td>\n",
       "      <td>1124-1+1</td>\n",
       "      <td>1</td>\n",
       "      <td>single-utterance-partial-match</td>\n",
       "      <td>2</td>\n",
       "      <td>close</td>\n",
       "      <td>darker blue</td>\n",
       "      <td>False</td>\n",
       "      <td>train</td>\n",
       "      <td>(0.6277777777777778, 0.81, 0.5)</td>\n",
       "      <td>(0.6888888888888889, 0.92, 0.5)</td>\n",
       "      <td>(0.7861111111111111, 0.87, 0.5)</td>\n",
       "      <td>alt1</td>\n",
       "      <td>[{\"text\": \"The darker blue one\", \"subject\": {\"...</td>\n",
       "      <td>[{'text': 'The darker blue one', 'subject': {'...</td>\n",
       "      <td>1</td>\n",
       "      <td>S</td>\n",
       "    </tr>\n",
       "    <tr>\n",
       "      <th>1</th>\n",
       "      <td>1</td>\n",
       "      <td>1124-1</td>\n",
       "      <td>1124-1+2</td>\n",
       "      <td>2</td>\n",
       "      <td>single-utterance-full-match</td>\n",
       "      <td>0</td>\n",
       "      <td>far</td>\n",
       "      <td>purple</td>\n",
       "      <td>True</td>\n",
       "      <td>train</td>\n",
       "      <td>(0.6916666666666667, 0.25, 0.5)</td>\n",
       "      <td>(0.15, 0.53, 0.5)</td>\n",
       "      <td>(0.35833333333333334, 0.66, 0.5)</td>\n",
       "      <td>target</td>\n",
       "      <td>[{\"text\": \"purple\", \"subject\": {\"worker_id\": 2...</td>\n",
       "      <td>[{'text': 'purple', 'subject': {'worker_id': 2...</td>\n",
       "      <td>1</td>\n",
       "      <td>S</td>\n",
       "    </tr>\n",
       "    <tr>\n",
       "      <th>2</th>\n",
       "      <td>2</td>\n",
       "      <td>1124-1</td>\n",
       "      <td>1124-1+3</td>\n",
       "      <td>3</td>\n",
       "      <td>mulitple-utterances-full-match</td>\n",
       "      <td>1</td>\n",
       "      <td>close</td>\n",
       "      <td>medium pink</td>\n",
       "      <td>False</td>\n",
       "      <td>train</td>\n",
       "      <td>(0.8361111111111111, 0.57, 0.5)</td>\n",
       "      <td>(0.8083333333333333, 0.59, 0.5)</td>\n",
       "      <td>(0.8388888888888889, 0.86, 0.5)</td>\n",
       "      <td>alt1</td>\n",
       "      <td>[{\"text\": \"Medium pink\", \"subject\": {\"worker_i...</td>\n",
       "      <td>[{'text': 'Medium pink', 'subject': {'worker_i...</td>\n",
       "      <td>2</td>\n",
       "      <td>SS</td>\n",
       "    </tr>\n",
       "    <tr>\n",
       "      <th>3</th>\n",
       "      <td>3</td>\n",
       "      <td>1124-1</td>\n",
       "      <td>1124-1+4</td>\n",
       "      <td>4</td>\n",
       "      <td>single-utterance-full-match</td>\n",
       "      <td>0</td>\n",
       "      <td>split</td>\n",
       "      <td>lime</td>\n",
       "      <td>False</td>\n",
       "      <td>train</td>\n",
       "      <td>(0.24166666666666667, 0.66, 0.5)</td>\n",
       "      <td>(0.2361111111111111, 0.21, 0.5)</td>\n",
       "      <td>(0.8305555555555556, 0.29, 0.5)</td>\n",
       "      <td>alt1</td>\n",
       "      <td>[{\"text\": \"lime\", \"subject\": {\"worker_id\": 201...</td>\n",
       "      <td>[{'text': 'lime', 'subject': {'worker_id': 201...</td>\n",
       "      <td>1</td>\n",
       "      <td>S</td>\n",
       "    </tr>\n",
       "  </tbody>\n",
       "</table>\n",
       "</div>"
      ],
      "text/plain": [
       "   Unnamed: 0  gameid   roundid  round_num            lux_difficulty_label  \\\n",
       "0           0  1124-1  1124-1+1          1  single-utterance-partial-match   \n",
       "1           1  1124-1  1124-1+2          2     single-utterance-full-match   \n",
       "2           2  1124-1  1124-1+3          3  mulitple-utterances-full-match   \n",
       "3           3  1124-1  1124-1+4          4     single-utterance-full-match   \n",
       "\n",
       "   lux_difficulty_rating condition    lux_label  matcher_succeeded  split  \\\n",
       "0                      2     close  darker blue              False  train   \n",
       "1                      0       far       purple               True  train   \n",
       "2                      1     close  medium pink              False  train   \n",
       "3                      0     split         lime              False  train   \n",
       "\n",
       "                             target                             alt1  \\\n",
       "0   (0.6277777777777778, 0.81, 0.5)  (0.6888888888888889, 0.92, 0.5)   \n",
       "1   (0.6916666666666667, 0.25, 0.5)                (0.15, 0.53, 0.5)   \n",
       "2   (0.8361111111111111, 0.57, 0.5)  (0.8083333333333333, 0.59, 0.5)   \n",
       "3  (0.24166666666666667, 0.66, 0.5)  (0.2361111111111111, 0.21, 0.5)   \n",
       "\n",
       "                               alt2 clicked  \\\n",
       "0   (0.7861111111111111, 0.87, 0.5)    alt1   \n",
       "1  (0.35833333333333334, 0.66, 0.5)  target   \n",
       "2   (0.8388888888888889, 0.86, 0.5)    alt1   \n",
       "3   (0.8305555555555556, 0.29, 0.5)    alt1   \n",
       "\n",
       "                                           full_text  \\\n",
       "0  [{\"text\": \"The darker blue one\", \"subject\": {\"...   \n",
       "1  [{\"text\": \"purple\", \"subject\": {\"worker_id\": 2...   \n",
       "2  [{\"text\": \"Medium pink\", \"subject\": {\"worker_i...   \n",
       "3  [{\"text\": \"lime\", \"subject\": {\"worker_id\": 201...   \n",
       "\n",
       "                                    utterance_events  num_utterances  \\\n",
       "0  [{'text': 'The darker blue one', 'subject': {'...               1   \n",
       "1  [{'text': 'purple', 'subject': {'worker_id': 2...               1   \n",
       "2  [{'text': 'Medium pink', 'subject': {'worker_i...               2   \n",
       "3  [{'text': 'lime', 'subject': {'worker_id': 201...               1   \n",
       "\n",
       "  utterance_events_pattern  \n",
       "0                        S  \n",
       "1                        S  \n",
       "2                       SS  \n",
       "3                        S  "
      ]
     },
     "execution_count": 4,
     "metadata": {},
     "output_type": "execute_result"
    }
   ],
   "source": [
    "cic_df.head(4)"
   ]
  },
  {
   "cell_type": "code",
   "execution_count": 12,
   "metadata": {},
   "outputs": [],
   "source": [
    "def plot_one(color_vector, ax=None, title=\"\"):\n",
    "    \n",
    "    rgb_vector = colorsys.hsv_to_rgb(*color_vector)\n",
    "    if ax is None:\n",
    "        _, ax = plt.subplots(1, 1)\n",
    "    ax.add_patch(plt.Rectangle((0, 0), 10, 10, color=tuple(rgb_vector)))\n",
    "    ax.axis('off')\n",
    "    ax.set_title(title)\n",
    "\n",
    "def plot_grid(objlist, ax=None, title=\"\"):\n",
    "    \n",
    "    rgbs = []\n",
    "    for d in objlist:\n",
    "        rgbs.append(colorsys.hsv_to_rgb(*d))\n",
    "        \n",
    "    fig, axs = plt.subplots(nrows=1, ncols=3, figsize=(3, 3),\n",
    "                        subplot_kw={'xticks': [], 'yticks': []})\n",
    "    for i,ax in enumerate(axs.flat):\n",
    "        ax.add_patch(plt.Rectangle((0, 0), 10, 10, color=tuple(rgbs[i])))\n",
    "    plt.show()"
   ]
  },
  {
   "cell_type": "code",
   "execution_count": 6,
   "metadata": {},
   "outputs": [
    {
     "data": {
      "image/png": "[encoded data removed]",
      "text/plain": [
       "<Figure size 432x288 with 1 Axes>"
      ]
     },
     "metadata": {
      "needs_background": "light"
     },
     "output_type": "display_data"
    }
   ],
   "source": [
    "plot_one(eval(cic_df.iloc[0]['target']))"
   ]
  },
  {
   "cell_type": "code",
   "execution_count": 7,
   "metadata": {},
   "outputs": [
    {
     "data": {
      "image/png": "[encoded data removed]",
      "text/plain": [
       "<Figure size 432x288 with 1 Axes>"
      ]
     },
     "metadata": {
      "needs_background": "light"
     },
     "output_type": "display_data"
    }
   ],
   "source": [
    "plot_one(eval(cic_df.iloc[0]['alt1']))"
   ]
  },
  {
   "cell_type": "code",
   "execution_count": 8,
   "metadata": {},
   "outputs": [
    {
     "data": {
      "image/png": "[encoded data removed]",
      "text/plain": [
       "<Figure size 432x288 with 1 Axes>"
      ]
     },
     "metadata": {
      "needs_background": "light"
     },
     "output_type": "display_data"
    }
   ],
   "source": [
    "plot_one(eval(cic_df.iloc[0]['alt2']))"
   ]
  },
  {
   "cell_type": "code",
   "execution_count": 13,
   "metadata": {},
   "outputs": [
    {
     "data": {
      "image/png": "[encoded data removed]",
      "text/plain": [
       "<Figure size 216x216 with 3 Axes>"
      ]
     },
     "metadata": {},
     "output_type": "display_data"
    }
   ],
   "source": [
    "plot_grid([eval(cic_df.iloc[0]['target']),eval(cic_df.iloc[0]['alt1']),eval(cic_df.iloc[0]['alt2'])])"
   ]
  },
  {
   "cell_type": "code",
   "execution_count": null,
   "metadata": {},
   "outputs": [],
   "source": []
  }
 ],
 "metadata": {
  "kernelspec": {
   "display_name": "Python 3",
   "language": "python",
   "name": "python3"
  },
  "language_info": {
   "codemirror_mode": {
    "name": "ipython",
    "version": 3
   },
   "file_extension": ".py",
   "mimetype": "text/x-python",
   "name": "python",
   "nbconvert_exporter": "python",
   "pygments_lexer": "ipython3",
   "version": "3.8.8"
  }
 },
 "nbformat": 4,
 "nbformat_minor": 2
}
